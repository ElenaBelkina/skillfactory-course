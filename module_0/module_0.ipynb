{
  "nbformat": 4,
  "nbformat_minor": 0,
  "metadata": {
    "colab": {
      "name": "module_0.ipynb",
      "provenance": []
    },
    "kernelspec": {
      "name": "python3",
      "display_name": "Python 3"
    }
  },
  "cells": [
    {
      "cell_type": "code",
      "metadata": {
        "id": "ajp30pNKOBqw",
        "outputId": "a9518bd0-8eff-492a-b172-2ff370b082bf",
        "colab": {
          "base_uri": "https://localhost:8080/"
        }
      },
      "source": [
        "# coding=utf-8\n",
        "\n",
        "import random\n",
        "\n",
        "default_lower_end = 1\n",
        "default_upper_limit = 100\n",
        "\n",
        "\n",
        "def try_to_guess(lower_end, upper_limit, mysterious_number, enable_log):\n",
        "    possible_number = -1\n",
        "    attempt = 0\n",
        "\n",
        "    while possible_number != mysterious_number:\n",
        "        possible_number = lower_end + int((upper_limit - lower_end) / 2)\n",
        "\n",
        "        if enable_log:\n",
        "            print (\"[{} .. {}], compare possible_number = {} with mysterious_number = {}\"\n",
        "                   .format(lower_end, upper_limit, possible_number, mysterious_number))\n",
        "\n",
        "        if possible_number < mysterious_number:\n",
        "            # this happens when range_to number was thought and during previous cycle iteration our search borders\n",
        "            # had difference in 1, so our possible_number will never be increased due to int rounding\n",
        "            if possible_number == lower_end:\n",
        "                # We guessed the mysterious number!\n",
        "                attempt += 1\n",
        "                break\n",
        "\n",
        "            lower_end = possible_number\n",
        "\n",
        "        elif possible_number > mysterious_number:\n",
        "            upper_limit = possible_number\n",
        "\n",
        "        attempt += 1\n",
        "\n",
        "    # We guessed the mysterious number!\n",
        "    return attempt\n",
        "\n",
        "\n",
        "total_attempts = 0\n",
        "for i in range(default_lower_end, default_upper_limit + 1):\n",
        "    total_attempts += try_to_guess(default_lower_end, default_upper_limit, i, False)\n",
        "\n",
        "arithmetical_mean = float(total_attempts) / (default_upper_limit - default_lower_end + 1)\n",
        "print (\"We guess mysterious number average in {} attempts\\n\".format(arithmetical_mean))\n",
        "\n",
        "another_mysterious_number = random.randint(default_lower_end, default_upper_limit)\n",
        "print (\"For example, mysterious number {} was guessed in {} attempts\"\n",
        "       .format(another_mysterious_number,\n",
        "               try_to_guess(default_lower_end, default_upper_limit, another_mysterious_number, True)))\n",
        "\n",
        "\n"
      ],
      "execution_count": 3,
      "outputs": [
        {
          "output_type": "stream",
          "text": [
            "We guess mysterious number average in 5.81 attempts\n",
            "\n",
            "[1 .. 100], compare possible_number = 50 with mysterious_number = 100\n",
            "[50 .. 100], compare possible_number = 75 with mysterious_number = 100\n",
            "[75 .. 100], compare possible_number = 87 with mysterious_number = 100\n",
            "[87 .. 100], compare possible_number = 93 with mysterious_number = 100\n",
            "[93 .. 100], compare possible_number = 96 with mysterious_number = 100\n",
            "[96 .. 100], compare possible_number = 98 with mysterious_number = 100\n",
            "[98 .. 100], compare possible_number = 99 with mysterious_number = 100\n",
            "[99 .. 100], compare possible_number = 99 with mysterious_number = 100\n",
            "For example, mysterious number 100 was guessed in 8 attempts\n"
          ],
          "name": "stdout"
        }
      ]
    }
  ]
}